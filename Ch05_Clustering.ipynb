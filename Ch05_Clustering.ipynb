{
 "cells": [
  {
   "cell_type": "markdown",
   "metadata": {},
   "source": [
    "# Chapter 5: Anomaly Detection in Network Traffic with K-means Clustering\n",
    "http://kdd.ics.uci.edu/databases/kddcup99/kddcup99.html"
   ]
  },
  {
   "cell_type": "code",
   "execution_count": 1,
   "metadata": {},
   "outputs": [],
   "source": [
    "from pprint import pprint"
   ]
  },
  {
   "cell_type": "code",
   "execution_count": 2,
   "metadata": {},
   "outputs": [],
   "source": [
    "from pyspark.sql import SparkSession\n",
    "spark = SparkSession.builder.appName(\"Ch05\").getOrCreate()\n",
    "sc = spark.sparkContext"
   ]
  },
  {
   "cell_type": "markdown",
   "metadata": {},
   "source": [
    "### A First Take on Clustering"
   ]
  },
  {
   "cell_type": "code",
   "execution_count": 4,
   "metadata": {},
   "outputs": [],
   "source": [
    "dataWithoutHeader = spark.read.option('inferSchema', 'true') \\\n",
    "                            .option('header', 'false') \\\n",
    "                            .csv('./data/kddcup.data_10_percent_corrected')\n",
    "# 10% sampling dataser --> 500k rows"
   ]
  },
  {
   "cell_type": "code",
   "execution_count": 5,
   "metadata": {},
   "outputs": [],
   "source": [
    "data = dataWithoutHeader.toDF(\n",
    "\"duration\", \"protocol_type\", \"service\", \"flag\",\n",
    "\"src_bytes\", \"dst_bytes\", \"land\", \"wrong_fragment\", \"urgent\",\n",
    "\"hot\", \"num_failed_logins\", \"logged_in\", \"num_compromised\",\n",
    "\"root_shell\", \"su_attempted\", \"num_root\", \"num_file_creations\",\n",
    "\"num_shells\", \"num_access_files\", \"num_outbound_cmds\",\n",
    "\"is_host_login\", \"is_guest_login\", \"count\", \"srv_count\",\n",
    "\"serror_rate\", \"srv_serror_rate\", \"rerror_rate\", \"srv_rerror_rate\",\n",
    "\"same_srv_rate\", \"diff_srv_rate\", \"srv_diff_host_rate\",\n",
    "\"dst_host_count\", \"dst_host_srv_count\",\n",
    "\"dst_host_same_srv_rate\", \"dst_host_diff_srv_rate\",\n",
    "\"dst_host_same_src_port_rate\", \"dst_host_srv_diff_host_rate\",\n",
    "\"dst_host_serror_rate\", \"dst_host_srv_serror_rate\",\n",
    "\"dst_host_rerror_rate\", \"dst_host_srv_rerror_rate\",\n",
    "\"label\")"
   ]
  },
  {
   "cell_type": "code",
   "execution_count": 11,
   "metadata": {},
   "outputs": [
    {
     "data": {
      "text/plain": [
       "494021"
      ]
     },
     "execution_count": 11,
     "metadata": {},
     "output_type": "execute_result"
    }
   ],
   "source": [
    "data.count()"
   ]
  },
  {
   "cell_type": "code",
   "execution_count": 8,
   "metadata": {
    "scrolled": true
   },
   "outputs": [
    {
     "name": "stdout",
     "output_type": "stream",
     "text": [
      "+----------------+------+\n",
      "|           label| count|\n",
      "+----------------+------+\n",
      "|          smurf.|280790|\n",
      "|        neptune.|107201|\n",
      "|         normal.| 97278|\n",
      "|           back.|  2203|\n",
      "|          satan.|  1589|\n",
      "|        ipsweep.|  1247|\n",
      "|      portsweep.|  1040|\n",
      "|    warezclient.|  1020|\n",
      "|       teardrop.|   979|\n",
      "|            pod.|   264|\n",
      "|           nmap.|   231|\n",
      "|   guess_passwd.|    53|\n",
      "|buffer_overflow.|    30|\n",
      "|           land.|    21|\n",
      "|    warezmaster.|    20|\n",
      "|           imap.|    12|\n",
      "|        rootkit.|    10|\n",
      "|     loadmodule.|     9|\n",
      "|      ftp_write.|     8|\n",
      "|       multihop.|     7|\n",
      "|            phf.|     4|\n",
      "|           perl.|     3|\n",
      "|            spy.|     2|\n",
      "+----------------+------+\n",
      "\n"
     ]
    }
   ],
   "source": [
    "data.select(\"label\").groupBy(\"label\").count().orderBy(\"count\", ascending=False).show(25)"
   ]
  },
  {
   "cell_type": "markdown",
   "metadata": {},
   "source": [
    "### KMeans"
   ]
  },
  {
   "cell_type": "code",
   "execution_count": 12,
   "metadata": {},
   "outputs": [],
   "source": [
    "from pyspark.ml import Pipeline\n",
    "from pyspark.ml.clustering import KMeans, KMeansModel\n",
    "from pyspark.ml.feature import VectorAssembler"
   ]
  },
  {
   "cell_type": "code",
   "execution_count": 45,
   "metadata": {},
   "outputs": [],
   "source": [
    "# numericOnly = data.drop(\"protocol_type\", \"service\", \"flag\").dropna().cache()\n",
    "# categorical data는 one hot coding 해야됨 -- 뒤에서\n",
    "numericOnly = data.drop(\"protocol_type\", \"service\", \"flag\").cache()"
   ]
  },
  {
   "cell_type": "code",
   "execution_count": 46,
   "metadata": {},
   "outputs": [],
   "source": [
    "inputCols = numericOnly.columns\n",
    "inputCols.remove('label')"
   ]
  },
  {
   "cell_type": "code",
   "execution_count": 47,
   "metadata": {},
   "outputs": [],
   "source": [
    "assembler = VectorAssembler()\\\n",
    "    .setInputCols(inputCols)\\\n",
    "    .setOutputCol(\"featureVector\")"
   ]
  },
  {
   "cell_type": "code",
   "execution_count": 48,
   "metadata": {},
   "outputs": [],
   "source": [
    "kmeans = KMeans() \\\n",
    "    .setPredictionCol(\"cluster\") \\\n",
    "    .setFeaturesCol(\"featureVector\")"
   ]
  },
  {
   "cell_type": "code",
   "execution_count": 49,
   "metadata": {},
   "outputs": [
    {
     "data": {
      "text/plain": [
       "[array([4.79793956e+01, 1.62207883e+03, 8.68534183e+02, 4.45326100e-05,\n",
       "        6.43293794e-03, 1.41694668e-05, 3.45168212e-02, 1.51815716e-04,\n",
       "        1.48247035e-01, 1.02121372e-02, 1.11331525e-04, 3.64357718e-05,\n",
       "        1.13517671e-02, 1.08295211e-03, 1.09307315e-04, 1.00805635e-03,\n",
       "        0.00000000e+00, 0.00000000e+00, 1.38658354e-03, 3.32286248e+02,\n",
       "        2.92907143e+02, 1.76685418e-01, 1.76607809e-01, 5.74330999e-02,\n",
       "        5.77183920e-02, 7.91548844e-01, 2.09816404e-02, 2.89968625e-02,\n",
       "        2.32470732e+02, 1.88666046e+02, 7.53781203e-01, 3.09056111e-02,\n",
       "        6.01935529e-01, 6.68351484e-03, 1.76753957e-01, 1.76441622e-01,\n",
       "        5.81176268e-02, 5.74111170e-02]),\n",
       " array([2.0000000e+00, 6.9337564e+08, 0.0000000e+00, 0.0000000e+00,\n",
       "        0.0000000e+00, 0.0000000e+00, 1.0000000e+00, 0.0000000e+00,\n",
       "        0.0000000e+00, 0.0000000e+00, 0.0000000e+00, 0.0000000e+00,\n",
       "        0.0000000e+00, 0.0000000e+00, 0.0000000e+00, 0.0000000e+00,\n",
       "        0.0000000e+00, 0.0000000e+00, 0.0000000e+00, 5.7000000e+01,\n",
       "        3.0000000e+00, 7.9000000e-01, 6.7000000e-01, 2.1000000e-01,\n",
       "        3.3000000e-01, 5.0000000e-02, 3.9000000e-01, 0.0000000e+00,\n",
       "        2.5500000e+02, 3.0000000e+00, 1.0000000e-02, 9.0000000e-02,\n",
       "        2.2000000e-01, 0.0000000e+00, 1.8000000e-01, 6.7000000e-01,\n",
       "        5.0000000e-02, 3.3000000e-01])]"
      ]
     },
     "execution_count": 49,
     "metadata": {},
     "output_type": "execute_result"
    }
   ],
   "source": [
    "pipeline = Pipeline().setStages([assembler, kmeans]) # stages -> transformer, estimator\n",
    "# pipeline = Pipeline(stages=[assembler, kmeans])\n",
    "pipelineModel = pipeline.fit(numericOnly)\n",
    "kmeansModel = pipelineModel.stages[-1]\n",
    "\n",
    "kmeansModel.clusterCenters() # k=2 (Default)"
   ]
  },
  {
   "cell_type": "code",
   "execution_count": 55,
   "metadata": {},
   "outputs": [
    {
     "data": {
      "text/plain": [
       "[Row(duration=0, src_bytes=181, dst_bytes=5450, land=0, wrong_fragment=0, urgent=0, hot=0, num_failed_logins=0, logged_in=1, num_compromised=0, root_shell=0, su_attempted=0, num_root=0, num_file_creations=0, num_shells=0, num_access_files=0, num_outbound_cmds=0, is_host_login=0, is_guest_login=0, count=8, srv_count=8, serror_rate=0.0, srv_serror_rate=0.0, rerror_rate=0.0, srv_rerror_rate=0.0, same_srv_rate=1.0, diff_srv_rate=0.0, srv_diff_host_rate=0.0, dst_host_count=9, dst_host_srv_count=9, dst_host_same_srv_rate=1.0, dst_host_diff_srv_rate=0.0, dst_host_same_src_port_rate=0.11, dst_host_srv_diff_host_rate=0.0, dst_host_serror_rate=0.0, dst_host_srv_serror_rate=0.0, dst_host_rerror_rate=0.0, dst_host_srv_rerror_rate=0.0, label='normal.', featureVector=SparseVector(38, {1: 181.0, 2: 5450.0, 8: 1.0, 19: 8.0, 20: 8.0, 25: 1.0, 28: 9.0, 29: 9.0, 30: 1.0, 32: 0.11}), cluster=0)]"
      ]
     },
     "execution_count": 55,
     "metadata": {},
     "output_type": "execute_result"
    }
   ],
   "source": [
    "withCluster = pipelineModel.transform(numericOnly)"
   ]
  },
  {
   "cell_type": "code",
   "execution_count": 53,
   "metadata": {
    "scrolled": true
   },
   "outputs": [
    {
     "name": "stdout",
     "output_type": "stream",
     "text": [
      "+-------+----------------+------+\n",
      "|cluster|           label| count|\n",
      "+-------+----------------+------+\n",
      "|      0|          smurf.|280790|\n",
      "|      0|        neptune.|107201|\n",
      "|      0|         normal.| 97278|\n",
      "|      0|           back.|  2203|\n",
      "|      0|          satan.|  1589|\n",
      "|      0|        ipsweep.|  1247|\n",
      "|      0|      portsweep.|  1039|\n",
      "|      0|    warezclient.|  1020|\n",
      "|      0|       teardrop.|   979|\n",
      "|      0|            pod.|   264|\n",
      "|      0|           nmap.|   231|\n",
      "|      0|   guess_passwd.|    53|\n",
      "|      0|buffer_overflow.|    30|\n",
      "|      0|           land.|    21|\n",
      "|      0|    warezmaster.|    20|\n",
      "|      0|           imap.|    12|\n",
      "|      0|        rootkit.|    10|\n",
      "|      0|     loadmodule.|     9|\n",
      "|      0|      ftp_write.|     8|\n",
      "|      0|       multihop.|     7|\n",
      "|      0|            phf.|     4|\n",
      "|      0|           perl.|     3|\n",
      "|      0|            spy.|     2|\n",
      "|      1|      portsweep.|     1|\n",
      "+-------+----------------+------+\n",
      "\n"
     ]
    }
   ],
   "source": [
    "withCluster.select(\"cluster\", \"label\") \\\n",
    "    .groupBy(\"cluster\", \"label\").count() \\\n",
    "    .orderBy([\"cluster\", \"count\"], ascending=[1, 0]) \\\n",
    "    .show(25)"
   ]
  },
  {
   "cell_type": "markdown",
   "metadata": {},
   "source": [
    "### Choosing k"
   ]
  },
  {
   "cell_type": "code",
   "execution_count": 20,
   "metadata": {},
   "outputs": [],
   "source": [
    "import random\n",
    "\n",
    "def clusteringScore0(data, k): # (data: DataFrame, k: Int): Double \n",
    "    inputCols = data.columns.copy()\n",
    "    inputCols.remove('label')\n",
    "\n",
    "    assembler = VectorAssembler() \\\n",
    "        .setInputCols(inputCols) \\\n",
    "        .setOutputCol(\"featureVector\")\n",
    "        \n",
    "    kmeans = KMeans() \\\n",
    "        .setSeed(42) \\\n",
    "        .setK(k) \\\n",
    "        .setPredictionCol(\"cluster\") \\\n",
    "        .setFeaturesCol(\"featureVector\")\n",
    "    \n",
    "    pipeline = Pipeline().setStages([assembler, kmeans])\n",
    "    kmeansModel = pipeline.fit(data).stages[-1]\n",
    "    return kmeansModel.computeCost(assembler.transform(data)) / data.count()"
   ]
  },
  {
   "cell_type": "code",
   "execution_count": 21,
   "metadata": {},
   "outputs": [
    {
     "data": {
      "text/plain": [
       "[(20, 69889100.71522829),\n",
       " (40, 69889095.22569679),\n",
       " (60, 32232875.75527558),\n",
       " (80, 31553254.56382279),\n",
       " (100, 26254419.772138733)]"
      ]
     },
     "execution_count": 21,
     "metadata": {},
     "output_type": "execute_result"
    }
   ],
   "source": [
    "scores0 = map(lambda x: (x, clusteringScore0(numericOnly, x)) ,range(20, 101, 20))\n",
    "list(scores0)\n",
    "\n",
    "## 결과값의 숫자가 너무 크다 (Normalize 필요)"
   ]
  },
  {
   "cell_type": "code",
   "execution_count": 22,
   "metadata": {},
   "outputs": [],
   "source": [
    "def clusteringScore1(data, k): # (data: DataFrame, k: Int): Double \n",
    "    inputCols = data.columns.copy()\n",
    "    inputCols.remove('label')\n",
    "\n",
    "    assembler = VectorAssembler() \\\n",
    "        .setInputCols(inputCols) \\\n",
    "        .setOutputCol(\"featureVector\")\n",
    "        \n",
    "    kmeans = KMeans() \\\n",
    "        .setSeed(random.randint(0,1000)) \\\n",
    "        .setK(k) \\\n",
    "        .setMaxIter(40) \\\n",
    "        .setTol(1.0e-5) \\\n",
    "        .setPredictionCol(\"cluster\") \\\n",
    "        .setFeaturesCol(\"featureVector\")\n",
    "    \n",
    "    pipeline = Pipeline().setStages([assembler, kmeans])\n",
    "    kmeansModel = pipeline.fit(data).stages[-1]\n",
    "    return kmeansModel.computeCost(assembler.transform(data)) / data.count()"
   ]
  },
  {
   "cell_type": "code",
   "execution_count": 23,
   "metadata": {},
   "outputs": [
    {
     "data": {
      "text/plain": [
       "[(20, 25353139.00444269),\n",
       " (40, 48613146.20434586),\n",
       " (60, 8114452.259562982),\n",
       " (80, 34134663.67454684),\n",
       " (100, 1911346.3927472366)]"
      ]
     },
     "execution_count": 23,
     "metadata": {},
     "output_type": "execute_result"
    }
   ],
   "source": [
    "scores1 = map(lambda x: (x, clusteringScore1(numericOnly, x)) ,range(20, 101, 20))\n",
    "list(scores1)\n",
    "\n",
    "## 결과값의 숫자가 너무 크다 (Normalize 필요)"
   ]
  },
  {
   "cell_type": "markdown",
   "metadata": {},
   "source": [
    "### Feature Normalization"
   ]
  },
  {
   "cell_type": "code",
   "execution_count": 24,
   "metadata": {},
   "outputs": [],
   "source": [
    "from pyspark.ml.feature import StandardScaler"
   ]
  },
  {
   "cell_type": "code",
   "execution_count": 25,
   "metadata": {},
   "outputs": [],
   "source": [
    "def clusteringScore2(data, k): #def clusteringScore2(data: DataFrame, k: Int): Double = {\n",
    "    inputCols = data.columns.copy()\n",
    "    inputCols.remove(\"label\")\n",
    "\n",
    "    assembler = VectorAssembler() \\\n",
    "        .setInputCols(inputCols) \\\n",
    "        .setOutputCol(\"featureVector\")\n",
    "\n",
    "    # Data normalizer\n",
    "    scaler = StandardScaler() \\\n",
    "        .setInputCol(\"featureVector\") \\\n",
    "        .setOutputCol(\"scaledFeatureVector\") \\\n",
    "        .setWithStd(True) \\\n",
    "        .setWithMean(False)\n",
    "        \n",
    "    kmeans = KMeans() \\\n",
    "        .setSeed(42) \\\n",
    "        .setK(k) \\\n",
    "        .setMaxIter(40) \\\n",
    "        .setTol(1.0e-5) \\\n",
    "        .setPredictionCol(\"cluster\") \\\n",
    "        .setFeaturesCol(\"scaledFeatureVector\")\n",
    "    \n",
    "    pipeline = Pipeline().setStages([assembler, scaler, kmeans])\n",
    "    pipelineModel = pipeline.fit(data)\n",
    "    kmeansModel = pipelineModel.stages[-1]\n",
    "    return kmeansModel.computeCost(pipelineModel.transform(data)) / data.count()"
   ]
  },
  {
   "cell_type": "code",
   "execution_count": 26,
   "metadata": {
    "scrolled": true
   },
   "outputs": [
    {
     "data": {
      "text/plain": [
       "[(60, 1.045256310031205),\n",
       " (90, 0.6672592567377787),\n",
       " (120, 0.48436324930446734),\n",
       " (150, 0.3656394040579684),\n",
       " (180, 0.30840490659866215),\n",
       " (210, 0.2607871194536823),\n",
       " (240, 0.2313484694456669),\n",
       " (270, 0.20208789727372622)]"
      ]
     },
     "execution_count": 26,
     "metadata": {},
     "output_type": "execute_result"
    }
   ],
   "source": [
    "scores2 = map(lambda x: (x, clusteringScore2(numericOnly, x)) ,range(60, 271, 30))\n",
    "list(scores2)"
   ]
  },
  {
   "cell_type": "markdown",
   "metadata": {},
   "source": [
    "### Categorical Variables"
   ]
  },
  {
   "cell_type": "code",
   "execution_count": 30,
   "metadata": {},
   "outputs": [],
   "source": [
    "from pyspark.ml.feature import OneHotEncoder, StringIndexer\n",
    "\n",
    "def oneHotPipeline(inputCol): # (inputCol: String): (Pipeline, String)\n",
    "    indexer = StringIndexer(inputCol=inputCol, outputCol=inputCol+\"_indexed\")   \n",
    "    encoder = OneHotEncoder(inputCol=inputCol+\"_indexed\", outputCol=inputCol+\"_vec\")\n",
    "\n",
    "    pipeline = Pipeline().setStages([indexer, encoder])\n",
    "    return (pipeline, inputCol + \"_vec\")"
   ]
  },
  {
   "cell_type": "code",
   "execution_count": 31,
   "metadata": {},
   "outputs": [],
   "source": [
    "def clusteringScore3(data, k): # data: DataFrame, k: Int): Double = {\n",
    "    (protoTypeEncoder, protoTypeVecCol) = oneHotPipeline(\"protocol_type\")\n",
    "    (serviceEncoder, serviceVecCol) = oneHotPipeline(\"service\")\n",
    "    (flagEncoder, flagVecCol) = oneHotPipeline(\"flag\")\n",
    "       \n",
    "    inputCols = data.columns.copy()\n",
    "    for c in [\"protocol_type\", \"service\", \"flag\", \"label\"]:\n",
    "        inputCols.remove(c)\n",
    "    inputCols.extend([\"protocol_type_vec\", \"service_vec\", \"flag_vec\"])\n",
    "\n",
    "    assembler = VectorAssembler() \\\n",
    "        .setInputCols(inputCols) \\\n",
    "        .setOutputCol(\"featureVector\")\n",
    "    \n",
    "    scaler = StandardScaler() \\\n",
    "        .setInputCol(\"featureVector\") \\\n",
    "        .setOutputCol(\"scaledFeatureVector\") \\\n",
    "        .setWithStd(True) \\\n",
    "        .setWithMean(False)\n",
    "        \n",
    "    kmeans = KMeans() \\\n",
    "        .setSeed(42) \\\n",
    "        .setK(k) \\\n",
    "        .setMaxIter(40) \\\n",
    "        .setTol(1.0e-5) \\\n",
    "        .setPredictionCol(\"cluster\") \\\n",
    "        .setFeaturesCol(\"scaledFeatureVector\")\n",
    "    \n",
    "    pipeline = Pipeline().setStages([protoTypeEncoder, serviceEncoder, flagEncoder, assembler, scaler, kmeans])\n",
    "    pipelineModel = pipeline.fit(data)\n",
    "    kmeansModel = pipelineModel.stages[-1]\n",
    "    return kmeansModel.computeCost(pipelineModel.transform(data)) / data.count()"
   ]
  },
  {
   "cell_type": "code",
   "execution_count": 58,
   "metadata": {},
   "outputs": [],
   "source": [
    "scores3 = map(lambda x: (x, clusteringScore3(data, x)), range(60, 271, 30))\n",
    "sc3 = list(scores3)"
   ]
  },
  {
   "cell_type": "code",
   "execution_count": null,
   "metadata": {},
   "outputs": [],
   "source": [
    "from Matplotlib import pyplot as plt\n",
    "plt.plot(sc3)"
   ]
  },
  {
   "cell_type": "markdown",
   "metadata": {},
   "source": [
    "### Using Labels with Entropy"
   ]
  },
  {
   "cell_type": "code",
   "execution_count": 33,
   "metadata": {},
   "outputs": [],
   "source": [
    "import math\n",
    "#  Calc entropy\n",
    "#  파이썬 map은 제너레이터\n",
    "def calc_each_entropy(v, n):\n",
    "    p = v/n\n",
    "    return -p*math.log(p)\n",
    "\n",
    "def entropy(counts): # (counts: iterable[int]): Double\n",
    "    values = [x for x in counts if x > 0]\n",
    "    n = sum(map(float, values))\n",
    "    entropys = map(lambda v: calc_each_entropy(v, n), values)\n",
    "    return sum(entropys)"
   ]
  },
  {
   "cell_type": "code",
   "execution_count": 34,
   "metadata": {},
   "outputs": [],
   "source": [
    "def fitPipeline4(data, k):\n",
    "    (protoTypeEncoder, protoTypeVecCol) = oneHotPipeline(\"protocol_type\")\n",
    "    (serviceEncoder, serviceVecCol) = oneHotPipeline(\"service\")\n",
    "    (flagEncoder, flagVecCol) = oneHotPipeline(\"flag\")\n",
    "\n",
    "    inputCols = data.columns.copy()\n",
    "    for c in [\"protocol_type\", \"service\", \"flag\", \"label\"]:\n",
    "        inputCols.remove(c)\n",
    "    inputCols.extend([\"protocol_type_vec\", \"service_vec\", \"flag_vec\"])\n",
    "\n",
    "    assembler = VectorAssembler() \\\n",
    "        .setInputCols(inputCols) \\\n",
    "        .setOutputCol(\"featureVector\")\n",
    "    \n",
    "    scaler = StandardScaler() \\\n",
    "        .setInputCol(\"featureVector\") \\\n",
    "        .setOutputCol(\"scaledFeatureVector\") \\\n",
    "        .setWithStd(True) \\\n",
    "        .setWithMean(False)\n",
    "        \n",
    "    kmeans = KMeans() \\\n",
    "        .setSeed(42) \\\n",
    "        .setK(k) \\\n",
    "        .setMaxIter(40) \\\n",
    "        .setTol(1.0e-5) \\\n",
    "        .setPredictionCol(\"cluster\") \\\n",
    "        .setFeaturesCol(\"scaledFeatureVector\")\n",
    "    \n",
    "    pipeline = Pipeline().setStages([protoTypeEncoder, serviceEncoder, flagEncoder, assembler, scaler, kmeans])\n",
    "    return pipeline.fit(data)  "
   ]
  },
  {
   "cell_type": "code",
   "execution_count": 35,
   "metadata": {},
   "outputs": [],
   "source": [
    "from collections import Counter\n",
    "\n",
    "def clusteringScore4(data, k): # (data: DataFrame, k: Int): Double \n",
    "    pipelineModel = fitPipeline4(data, k)\n",
    "\n",
    "    clusterLabel = pipelineModel.transform(data).select([\"cluster\", \"label\"])\n",
    "    labels_grouped = clusterLabel.rdd.groupByKey()\n",
    "    labels_counted = labels_grouped.map(lambda x: (x[0], len(x[1]), list(Counter(x[1]).values())))\n",
    "    weightedClusterEntropy = labels_counted.map(lambda x: x[1]*entropy((x[2])))\n",
    "\n",
    "    # Average entropy weighted by cluster size \n",
    "    return sum(weightedClusterEntropy.collect())/data.count()"
   ]
  },
  {
   "cell_type": "code",
   "execution_count": 36,
   "metadata": {},
   "outputs": [
    {
     "data": {
      "text/plain": [
       "[(60, 0.08610395783128089),\n",
       " (90, 0.04635306786629947),\n",
       " (120, 0.041960857374731125),\n",
       " (150, 0.04060728429783955),\n",
       " (180, 0.02367598139007656),\n",
       " (210, 0.020198154875377766),\n",
       " (240, 0.0128627536767686),\n",
       " (270, 0.01394629790110366)]"
      ]
     },
     "execution_count": 36,
     "metadata": {},
     "output_type": "execute_result"
    }
   ],
   "source": [
    "scores4 = map(lambda x: (x, clusteringScore4(data, x)), range(60, 271, 30))\n",
    "list(scores4)"
   ]
  },
  {
   "cell_type": "markdown",
   "metadata": {},
   "source": [
    "### Clustering in Action"
   ]
  },
  {
   "cell_type": "code",
   "execution_count": 37,
   "metadata": {
    "scrolled": true
   },
   "outputs": [
    {
     "name": "stdout",
     "output_type": "stream",
     "text": [
      "+-------+----------------+------+\n",
      "|cluster|           label| count|\n",
      "+-------+----------------+------+\n",
      "|      0|           back.|     5|\n",
      "|      0|         normal.|  5783|\n",
      "|      1|         normal.|     1|\n",
      "|      2|        neptune.|   101|\n",
      "|      3|        rootkit.|     1|\n",
      "|      4|       teardrop.|   711|\n",
      "|      5|        neptune.|   106|\n",
      "|      6|         normal.|     2|\n",
      "|      6|    warezmaster.|    15|\n",
      "|      7|        neptune.|    18|\n",
      "|      8|           back.|     2|\n",
      "|      8|         normal.|    50|\n",
      "|      9|         normal.|     1|\n",
      "|      9|      portsweep.|    49|\n",
      "|     10|           imap.|     4|\n",
      "|     10|           nmap.|   102|\n",
      "|     11|        ipsweep.|     4|\n",
      "|     11|           nmap.|     1|\n",
      "|     11|         normal.|   337|\n",
      "|     11|      portsweep.|     1|\n",
      "|     11|          smurf.|280787|\n",
      "|     12|        neptune.| 45524|\n",
      "|     13|         normal.|   160|\n",
      "|     14|        neptune.|   101|\n",
      "|     14|      portsweep.|     1|\n",
      "|     15|        neptune.|   102|\n",
      "|     15|      portsweep.|     1|\n",
      "|     16|        neptune.|    96|\n",
      "|     16|           nmap.|     1|\n",
      "|     17|        ipsweep.|     1|\n",
      "|     17|        neptune.|    97|\n",
      "|     18|         normal.|     2|\n",
      "|     18|            pod.|     5|\n",
      "|     19|        ipsweep.|    14|\n",
      "|     19|        neptune.| 19314|\n",
      "|     19|      portsweep.|    48|\n",
      "|     20|         normal.|   271|\n",
      "|     20|          satan.|     1|\n",
      "|     21|         normal.|     1|\n",
      "|     22|        neptune.|    24|\n",
      "|     22|      portsweep.|     3|\n",
      "|     23|         normal.|   604|\n",
      "|     24|         normal.|   159|\n",
      "|     25|         normal.|   101|\n",
      "|     25|          satan.|     1|\n",
      "|     26|        ipsweep.|   253|\n",
      "|     27|        ipsweep.|     1|\n",
      "|     27|         normal.|    45|\n",
      "|     28|        neptune.|   101|\n",
      "|     29|         normal.|  1797|\n",
      "|     30|        neptune.|    21|\n",
      "|     31|        neptune.|    92|\n",
      "|     31|      portsweep.|     2|\n",
      "|     31|          satan.|     1|\n",
      "|     32|        neptune.|    89|\n",
      "|     33|        neptune.|   111|\n",
      "|     33|         normal.|     1|\n",
      "|     34|         normal.|    41|\n",
      "|     34|    warezclient.|   274|\n",
      "|     35|     loadmodule.|     2|\n",
      "|     35|       multihop.|     2|\n",
      "|     35|           perl.|     3|\n",
      "|     36|      portsweep.|    11|\n",
      "|     37|        neptune.|   113|\n",
      "|     37|      portsweep.|     2|\n",
      "|     38|        neptune.|    78|\n",
      "|     39|         normal.|    53|\n",
      "|     40|        neptune.|   101|\n",
      "|     40|      portsweep.|     4|\n",
      "|     41|         normal.|    13|\n",
      "|     41|          satan.|     1|\n",
      "|     42|        neptune.|    82|\n",
      "|     43|         normal.|    14|\n",
      "|     44|           land.|    21|\n",
      "|     44|         normal.|     1|\n",
      "|     45|        neptune.|    99|\n",
      "|     46|   guess_passwd.|     1|\n",
      "|     46|         normal.|     1|\n",
      "|     47|        ipsweep.|     1|\n",
      "|     47|        neptune.|   118|\n",
      "|     47|      portsweep.|     1|\n",
      "|     48|        neptune.|    19|\n",
      "|     48|      portsweep.|     1|\n",
      "|     49|        neptune.|   102|\n",
      "|     49|      portsweep.|     1|\n",
      "|     50|buffer_overflow.|     6|\n",
      "|     50|      ftp_write.|     4|\n",
      "|     50|        ipsweep.|     3|\n",
      "|     50|       multihop.|     3|\n",
      "|     50|        neptune.|   149|\n",
      "|     50|         normal.|  3600|\n",
      "|     50|        rootkit.|     1|\n",
      "|     50|    warezclient.|   701|\n",
      "|     50|    warezmaster.|     3|\n",
      "|     51|        neptune.|    19|\n",
      "|     51|      portsweep.|     1|\n",
      "|     52|         normal.|     4|\n",
      "|     53|         normal.|    23|\n",
      "|     54|        ipsweep.|     1|\n",
      "|     54|        neptune.|   102|\n",
      "|     54|         normal.|     1|\n",
      "|     54|      portsweep.|     1|\n",
      "|     55|        neptune.|    91|\n",
      "|     56|        ipsweep.|     2|\n",
      "|     56|        neptune.|    21|\n",
      "|     56|      portsweep.|     1|\n",
      "|     57|         normal.|   664|\n",
      "|     57|          satan.|     9|\n",
      "|     58|      portsweep.|   260|\n",
      "|     59|        neptune.|    82|\n",
      "|     60|        neptune.|    89|\n",
      "|     60|          satan.|     1|\n",
      "|     61|        ipsweep.|     2|\n",
      "|     61|        neptune.|   108|\n",
      "|     61|      portsweep.|     1|\n",
      "|     62|        ipsweep.|     1|\n",
      "|     62|        neptune.|   112|\n",
      "|     62|         normal.|     3|\n",
      "|     63|           imap.|     7|\n",
      "|     63|        neptune.|   105|\n",
      "|     64|        neptune.|    98|\n",
      "|     65|         normal.|     2|\n",
      "|     66|buffer_overflow.|    18|\n",
      "|     66|     loadmodule.|     1|\n",
      "|     66|         normal.|    16|\n",
      "|     66|            phf.|     4|\n",
      "|     66|        rootkit.|     1|\n",
      "|     67|        ipsweep.|   820|\n",
      "|     67|           nmap.|    99|\n",
      "|     67|         normal.|     7|\n",
      "|     68|        neptune.|    21|\n",
      "|     69|           nmap.|    25|\n",
      "|     69|         normal.|  7295|\n",
      "|     69|            pod.|    60|\n",
      "|     69|      portsweep.|     5|\n",
      "|     69|          satan.|   133|\n",
      "|     69|          smurf.|     3|\n",
      "|     69|       teardrop.|     8|\n",
      "|     70|           back.|     5|\n",
      "|     70|         normal.|    17|\n",
      "|     70|          satan.|     1|\n",
      "|     70|    warezclient.|     1|\n",
      "|     71|           back.|  1806|\n",
      "|     71|         normal.|    16|\n",
      "|     72|      portsweep.|     1|\n",
      "|     73|   guess_passwd.|    49|\n",
      "|     73|         normal.|     4|\n",
      "|     73|        rootkit.|     1|\n",
      "|     74|         normal.|  3828|\n",
      "|     75|        neptune.|    97|\n",
      "|     75|         normal.|    77|\n",
      "|     75|      portsweep.|     2|\n",
      "|     75|          satan.|     1|\n",
      "|     76|        neptune.|    18|\n",
      "|     76|      portsweep.|     1|\n",
      "|     77|        neptune.|    25|\n",
      "|     78|         normal.|     9|\n",
      "|     78|          satan.|     2|\n",
      "|     79|          satan.|     1|\n",
      "|     80|        ipsweep.|     3|\n",
      "|     80|        neptune.|   112|\n",
      "|     80|      portsweep.|     1|\n",
      "|     80|          satan.|     1|\n",
      "|     81|         normal.|   212|\n",
      "|     81|          satan.|     2|\n",
      "|     82|        neptune.|     1|\n",
      "|     82|         normal.|  2240|\n",
      "|     83|         normal.|  7773|\n",
      "|     84|         normal.|   100|\n",
      "|     84|    warezclient.|    14|\n",
      "|     85|        ipsweep.|     1|\n",
      "|     85|        neptune.|   107|\n",
      "|     85|      portsweep.|     2|\n",
      "|     86|         normal.|    71|\n",
      "|     87|         normal.|   300|\n",
      "|     87|          satan.|     1|\n",
      "|     88|        neptune.|   105|\n",
      "|     89|        neptune.|   109|\n",
      "|     89|      portsweep.|     1|\n",
      "|     90|            spy.|     1|\n",
      "|     91|buffer_overflow.|     3|\n",
      "|     91|   guess_passwd.|     1|\n",
      "|     91|        ipsweep.|     1|\n",
      "|     91|     loadmodule.|     3|\n",
      "|     91|        neptune.|   177|\n",
      "|     91|         normal.|   111|\n",
      "|     91|      portsweep.|     1|\n",
      "|     91|        rootkit.|     2|\n",
      "|     91|          satan.|     1|\n",
      "|     91|            spy.|     1|\n",
      "|     92|        neptune.|   115|\n",
      "|     93|        ipsweep.|     2|\n",
      "|     93|        neptune.|    82|\n",
      "|     93|         normal.|    51|\n",
      "|     94|buffer_overflow.|     1|\n",
      "|     94|         normal.|     2|\n",
      "|     95|        neptune.|   102|\n",
      "|     95|      portsweep.|     1|\n",
      "|     95|          satan.|     1|\n",
      "|     96|           back.|     1|\n",
      "+-------+----------------+------+\n",
      "only showing top 200 rows\n",
      "\n"
     ]
    }
   ],
   "source": [
    "pipelineModel = fitPipeline4(data, 180)\n",
    "countByClusterLabel = pipelineModel.transform(data) \\\n",
    "    .select(\"cluster\", \"label\") \\\n",
    "    .groupBy(\"cluster\", \"label\").count() \\\n",
    "    .orderBy([\"cluster\", \"label\"])\n",
    "countByClusterLabel.show(200)"
   ]
  },
  {
   "cell_type": "code",
   "execution_count": 38,
   "metadata": {},
   "outputs": [],
   "source": [
    "kMeansModel = pipelineModel.stages[-1]\n",
    "centroids = kMeansModel.clusterCenters()\n",
    "clustered = pipelineModel.transform(data)"
   ]
  },
  {
   "cell_type": "code",
   "execution_count": 57,
   "metadata": {
    "scrolled": true
   },
   "outputs": [
    {
     "data": {
      "text/plain": [
       "25.882188620759905"
      ]
     },
     "execution_count": 57,
     "metadata": {},
     "output_type": "execute_result"
    }
   ],
   "source": [
    "import numpy as np\n",
    "def sqdist(a,b):\n",
    "    return float(np.sqrt(np.sum((a-b)**2, axis=0)))\n",
    "    \n",
    "thresholds = clustered.select(\"cluster\", \"scaledFeatureVector\").rdd \\\n",
    "    .map(lambda x: sqdist(centroids[x[0]], np.array(x[1])))\\\n",
    "    .sortBy(lambda x: x, ascending=False)\\\n",
    "    .take(100)\n",
    "threshold = thresholds[-1]\n",
    "threshold\n",
    "\n",
    "## cluster의 center에서 point간 거리계산 --- outlier 100개를 찾기 위함."
   ]
  },
  {
   "cell_type": "code",
   "execution_count": 40,
   "metadata": {},
   "outputs": [
    {
     "data": {
      "text/plain": [
       "4940"
      ]
     },
     "execution_count": 40,
     "metadata": {},
     "output_type": "execute_result"
    }
   ],
   "source": [
    "samples = clustered.sample(0.01) # 너무 오래걸려서  1%만 샘플링\n",
    "samples.count()"
   ]
  },
  {
   "cell_type": "code",
   "execution_count": 41,
   "metadata": {},
   "outputs": [
    {
     "name": "stdout",
     "output_type": "stream",
     "text": [
      "+----------------+-----+\n",
      "|           label|count|\n",
      "+----------------+-----+\n",
      "|         normal.|   52|\n",
      "|        neptune.|   16|\n",
      "|    warezclient.|    7|\n",
      "|      portsweep.|    5|\n",
      "|          satan.|    5|\n",
      "|        ipsweep.|    2|\n",
      "|           back.|    2|\n",
      "|   guess_passwd.|    1|\n",
      "|           nmap.|    1|\n",
      "|      ftp_write.|    1|\n",
      "|buffer_overflow.|    1|\n",
      "|           land.|    1|\n",
      "+----------------+-----+\n",
      "\n"
     ]
    }
   ],
   "source": [
    "anomalies = samples.select(\"cluster\", \"scaledFeatureVector\", \"label\").rdd \\\n",
    "    .filter(lambda x: sqdist(centroids[x[0]], np.array(x[1])) >= threshold).toDF()\n",
    "anomalies.select(\"cluster\", \"label\").groupBy('label') \\\n",
    "    .count().orderBy(\"count\", ascending=False).show()"
   ]
  }
 ],
 "metadata": {
  "kernelspec": {
   "display_name": "Python 3",
   "language": "python",
   "name": "python3"
  },
  "language_info": {
   "codemirror_mode": {
    "name": "ipython",
    "version": 3
   },
   "file_extension": ".py",
   "mimetype": "text/x-python",
   "name": "python",
   "nbconvert_exporter": "python",
   "pygments_lexer": "ipython3",
   "version": "3.6.5"
  }
 },
 "nbformat": 4,
 "nbformat_minor": 2
}
