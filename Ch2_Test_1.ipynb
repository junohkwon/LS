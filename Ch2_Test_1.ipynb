{
 "cells": [
  {
   "cell_type": "code",
   "execution_count": 28,
   "metadata": {},
   "outputs": [],
   "source": [
    "import pyspark\n",
    "sc = pyspark.SparkContext(appName='rec')"
   ]
  },
  {
   "cell_type": "code",
   "execution_count": 29,
   "metadata": {
    "scrolled": true
   },
   "outputs": [
    {
     "name": "stdout",
     "output_type": "stream",
     "text": [
      "Mean Squared Error = 6.977352756149555e-06\n"
     ]
    }
   ],
   "source": [
    "from pyspark.mllib.recommendation import ALS, MatrixFactorizationModel, Rating\n",
    "\n",
    "# Load and parse the data\n",
    "data = sc.textFile(\"./mllib_data/test.data\")\n",
    "\n",
    "#data format\n",
    "'''\n",
    "1,1,5.0\n",
    "1,2,1.0\n",
    "1,3,5.0\n",
    "'''\n",
    "\n",
    "ratings = data.map(lambda l: l.split(','))\\\n",
    "              .map(lambda l: Rating(int(l[0]), int(l[1]), float(l[2])))\n",
    "\n",
    "#ratings.take(5)\n",
    "\n",
    "# model using Alternating Least Squares ---> Latent Factor Model\n",
    "rank = 10  # Latent Factor Size\n",
    "numIterations = 10 # Gradient Descent를 실행하는 횟수 (크면 정답을 찾아갈 확률이 높으나 대신 느림)\n",
    "\n",
    "# rank와 numIterations는 hyper-parameter로 사람이 경험적으로 정해줘야 됨.\n",
    "# hyper-parameter값은 정해진 답이 없다\n",
    "\n",
    "model = ALS.train(ratings, rank, numIterations)\n",
    "\n",
    "# ALS based on implicit ratings ---> Regularization을 추가한 ALS (alpha값으로 제어)\n",
    "# alpha가 크면 regularization이 잘 되나 factorization이 잘 안될수도 있음.\n",
    "# model = ALS.trainImplicit(ratings, rank, numIterations,alpha=0.01)\n",
    "\n",
    "# Evaluate the model on training data\n",
    "testdata = ratings.map(lambda p: (p[0], p[1]))\n",
    "predictions = model.predictAll(testdata).map(lambda r: ((r[0], r[1]), r[2]))\n",
    "\n",
    "ratesAndPreds = ratings.map(lambda r: ((r[0], r[1]), r[2])).join(predictions)\n",
    "MSE = ratesAndPreds.map(lambda r: (r[1][0] - r[1][1])**2).mean()\n",
    "print(\"Mean Squared Error = \" + str(MSE))\n",
    "\n",
    "# Save and load model\n",
    "model.save(sc, \"./\")\n",
    "sameModel = MatrixFactorizationModel.load(sc, \"target/tmp/myCollaborativeFilter\")"
   ]
  },
  {
   "cell_type": "code",
   "execution_count": 27,
   "metadata": {},
   "outputs": [],
   "source": [
    "sc.stop()"
   ]
  }
 ],
 "metadata": {
  "kernelspec": {
   "display_name": "Python 3",
   "language": "python",
   "name": "python3"
  },
  "language_info": {
   "codemirror_mode": {
    "name": "ipython",
    "version": 3
   },
   "file_extension": ".py",
   "mimetype": "text/x-python",
   "name": "python",
   "nbconvert_exporter": "python",
   "pygments_lexer": "ipython3",
   "version": "3.6.5"
  }
 },
 "nbformat": 4,
 "nbformat_minor": 2
}
