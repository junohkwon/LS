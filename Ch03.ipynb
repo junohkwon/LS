{
 "cells": [
  {
   "cell_type": "markdown",
   "metadata": {},
   "source": [
    "#### Spark Context 생성 및 라이브러리 로드"
   ]
  },
  {
   "cell_type": "code",
   "execution_count": 1,
   "metadata": {},
   "outputs": [],
   "source": [
    "from pyspark.sql import SparkSession\n",
    "spark = SparkSession.builder.appName(\"Ch03\").getOrCreate()\n",
    "sc = spark.sparkContext"
   ]
  },
  {
   "cell_type": "code",
   "execution_count": 2,
   "metadata": {},
   "outputs": [],
   "source": [
    "from pyspark.sql.types import Row"
   ]
  },
  {
   "cell_type": "markdown",
   "metadata": {},
   "source": [
    "#### user-artist-count 데이터 로드"
   ]
  },
  {
   "cell_type": "code",
   "execution_count": 4,
   "metadata": {},
   "outputs": [
    {
     "data": {
      "text/plain": [
       "[Row(artist=1, count=55, user=1000002),\n",
       " Row(artist=1000006, count=33, user=1000002)]"
      ]
     },
     "execution_count": 4,
     "metadata": {},
     "output_type": "execute_result"
    }
   ],
   "source": [
    "rawUserArtistData = sc.textFile(\"profiledata_06-May-2005\\\\user_artist_data.txt\")\n",
    "userArtistDF = rawUserArtistData\\\n",
    "    .map(lambda line: line.split(\" \"))\\\n",
    "    .map(lambda x: Row(user=int(x[0]), artist=int(x[1]), count=int(x[2])))\\\n",
    "    .toDF()\n",
    "userArtistDF.take(2)"
   ]
  },
  {
   "cell_type": "code",
   "execution_count": 5,
   "metadata": {
    "scrolled": true
   },
   "outputs": [
    {
     "name": "stdout",
     "output_type": "stream",
     "text": [
      "Row(user=2443548)\n",
      "Row(user=90)\n",
      "Row(artist=10794401)\n",
      "Row(artist=1)\n"
     ]
    }
   ],
   "source": [
    "print(userArtistDF.select('user').rdd.max())\n",
    "print(userArtistDF.select('user').rdd.min())\n",
    "print(userArtistDF.select('artist').rdd.max())\n",
    "print(userArtistDF.select('artist').rdd.min())"
   ]
  },
  {
   "cell_type": "markdown",
   "metadata": {},
   "source": [
    "#### artist-name 데이터 로드"
   ]
  },
  {
   "cell_type": "code",
   "execution_count": 6,
   "metadata": {},
   "outputs": [
    {
     "data": {
      "text/plain": [
       "[Row(artist=1134999, name='06Crazy Life'),\n",
       " Row(artist=6821360, name='Pang Nakarin')]"
      ]
     },
     "execution_count": 6,
     "metadata": {},
     "output_type": "execute_result"
    }
   ],
   "source": [
    "rawArtistData = sc.textFile(\"profiledata_06-May-2005\\\\artist_data.txt\")\n",
    "artistDataDF = rawArtistData\\\n",
    "    .map(lambda line: line.split(\"\\t\", 1))\\\n",
    "    .filter(lambda x: len(x) == 2)\\\n",
    "    .filter(lambda x: x[0].isdigit())\\\n",
    "    .map(lambda x: Row(artist=int(x[0]), name=x[1]))\\\n",
    "    .toDF()\n",
    "artistDataDF.take(2)"
   ]
  },
  {
   "cell_type": "markdown",
   "metadata": {},
   "source": [
    "#### artist alias 데이터 로드"
   ]
  },
  {
   "cell_type": "code",
   "execution_count": 7,
   "metadata": {
    "scrolled": true
   },
   "outputs": [
    {
     "data": {
      "text/plain": [
       "[Row(alias=1000311, artist=1092764), Row(alias=1000557, artist=1095122)]"
      ]
     },
     "execution_count": 7,
     "metadata": {},
     "output_type": "execute_result"
    }
   ],
   "source": [
    "rawArtistAlias = sc.textFile(\"profiledata_06-May-2005\\\\artist_alias.txt\")\n",
    "artistAliasDF = rawArtistAlias\\\n",
    "    .map(lambda line: line.split(\"\\t\"))\\\n",
    "    .filter(lambda x: len(x) == 2)\\\n",
    "    .filter(lambda x: x[0].isdigit())\\\n",
    "    .filter(lambda x: x[1].isdigit())\\\n",
    "    .map(lambda x: Row(artist=int(x[0]), alias=int(x[1])))\\\n",
    "    .toDF()\n",
    "artistAliasDF.take(2)"
   ]
  },
  {
   "cell_type": "markdown",
   "metadata": {},
   "source": [
    "#### user-artist data와 alias data를 결합하여 train dataset 생성"
   ]
  },
  {
   "cell_type": "code",
   "execution_count": 8,
   "metadata": {},
   "outputs": [
    {
     "data": {
      "text/plain": [
       "[(1000159, 26, 1), (1000320, 26, 1)]"
      ]
     },
     "execution_count": 8,
     "metadata": {},
     "output_type": "execute_result"
    }
   ],
   "source": [
    "trainData = userArtistDF.join(artistAliasDF, \"artist\", \"left_outer\")\\\n",
    "    .rdd\\\n",
    "    .map(lambda x: (x['user'], x['artist'], x['count']) if x['alias']== None else (x['user'], x['alias'], x['count']))\\\n",
    "    .map(lambda x: (int(x[0]), int(x[1]), int(x[2])))\n",
    "trainData.take(2)"
   ]
  },
  {
   "cell_type": "code",
   "execution_count": 9,
   "metadata": {},
   "outputs": [],
   "source": [
    "from pyspark.mllib.recommendation import ALS, MatrixFactorizationModel, Rating"
   ]
  },
  {
   "cell_type": "markdown",
   "metadata": {},
   "source": [
    "#### Build the recommendation model using Alternating Least Squares"
   ]
  },
  {
   "cell_type": "code",
   "execution_count": 10,
   "metadata": {},
   "outputs": [],
   "source": [
    "rank = 10\n",
    "iterations = 5\n",
    "lbda = 0.01\n",
    "seed = 42\n",
    "model = ALS.trainImplicit(trainData, rank=rank, iterations=iterations, lambda_=lbda, alpha=1.0, seed=seed)"
   ]
  },
  {
   "cell_type": "markdown",
   "metadata": {},
   "source": [
    "#### Feature extraction 확인"
   ]
  },
  {
   "cell_type": "code",
   "execution_count": 11,
   "metadata": {
    "scrolled": true
   },
   "outputs": [
    {
     "data": {
      "text/plain": [
       "[(7400,\n",
       "  array('d', [-0.5253109335899353, -3.717756509780884, 0.5567010641098022, -0.6934528350830078, 1.8062853813171387, -0.573974609375, 2.7792887687683105, 0.9534238576889038, -2.383761405944824, -0.7505308985710144])),\n",
       " (8500,\n",
       "  array('d', [-0.07504619657993317, -0.010923611931502819, 0.036028992384672165, -0.002535992069169879, 0.03441774845123291, 0.05178917571902275, 0.023467540740966797, -0.008269968442618847, 0.006576730404049158, -0.012308135628700256])),\n",
       " (14900,\n",
       "  array('d', [-0.9122973084449768, -3.81801438331604, 0.007389751262962818, -0.1773201823234558, 2.0722339153289795, 0.6981947422027588, 1.440445065498352, 1.1119272708892822, -0.4951328635215759, -0.9021040797233582])),\n",
       " (15200,\n",
       "  array('d', [-0.19351011514663696, -3.4464235305786133, 1.0366121530532837, -0.7943283319473267, 1.919632077217102, 1.3739653825759888, 2.6153273582458496, 1.8604228496551514, -0.963604211807251, 0.21567213535308838])),\n",
       " (1000100,\n",
       "  array('d', [1.3315505981445312, -0.2838905453681946, 1.3849025964736938, 0.984255850315094, 1.7810115814208984, -1.442350149154663, -2.2251367568969727, -0.2817421555519104, -1.5976957082748413, -1.0551300048828125]))]"
      ]
     },
     "execution_count": 11,
     "metadata": {},
     "output_type": "execute_result"
    }
   ],
   "source": [
    "model.userFeatures().take(5)"
   ]
  },
  {
   "cell_type": "code",
   "execution_count": 12,
   "metadata": {
    "scrolled": false
   },
   "outputs": [
    {
     "data": {
      "text/plain": [
       "[(100,\n",
       "  array('d', [-0.08007114380598068, -0.13515709340572357, -0.02065253257751465, -0.008643229492008686, 0.03264828398823738, 0.017810245975852013, 0.06439027190208435, 0.06781982630491257, -0.08726055175065994, -0.10340531915426254])),\n",
       " (200,\n",
       "  array('d', [-0.02947927825152874, -0.042818766087293625, -0.0011996664106845856, -0.022181829437613487, -0.0069001102820038795, -0.0103484271094203, -0.008582467213273048, 0.035741522908210754, 0.011813233606517315, -0.0014511671615764499])),\n",
       " (300,\n",
       "  array('d', [-0.04312776401638985, -0.09535614401102066, 0.023602696135640144, -0.02801547758281231, 0.13503451645374298, 0.08189631998538971, 0.03841058909893036, 0.010272203013300896, -0.13086190819740295, -0.0037975837476551533])),\n",
       " (500,\n",
       "  array('d', [-0.031643643975257874, 0.005091628059744835, -0.026599954813718796, 0.0035310471430420876, 0.03397339954972267, -0.03464490920305252, 0.023981163278222084, -0.028873350471258163, -0.017264682799577713, 0.011411288753151894])),\n",
       " (600,\n",
       "  array('d', [0.027132311835885048, -0.03477099537849426, 0.07536186277866364, 0.04756717011332512, 0.1430811583995819, -0.05159243941307068, -0.0982336699962616, -0.06459065526723862, -0.06304680556058884, -0.022242018952965736]))]"
      ]
     },
     "execution_count": 12,
     "metadata": {},
     "output_type": "execute_result"
    }
   ],
   "source": [
    "model.productFeatures().take(5)"
   ]
  },
  {
   "cell_type": "markdown",
   "metadata": {},
   "source": [
    "#### Spot Checking Recommendations"
   ]
  },
  {
   "cell_type": "code",
   "execution_count": 13,
   "metadata": {
    "scrolled": false
   },
   "outputs": [
    {
     "name": "stdout",
     "output_type": "stream",
     "text": [
      "+-------+---------------+\n",
      "| artist|           name|\n",
      "+-------+---------------+\n",
      "|   1180|     David Gray|\n",
      "|    378|  Blackalicious|\n",
      "|    813|     Jurassic 5|\n",
      "|1255340|The Saw Doctors|\n",
      "|    942|         Xzibit|\n",
      "+-------+---------------+\n",
      "\n"
     ]
    }
   ],
   "source": [
    "userID = 2093760\n",
    "existingArtistIDs = trainData.filter(lambda x: x[0] == userID).map(lambda x: x[1]).collect()\n",
    "artistDataDF.filter(artistDataDF.artist.isin(existingArtistIDs)).show()"
   ]
  },
  {
   "cell_type": "markdown",
   "metadata": {},
   "source": [
    "#### 특정 user가 좋아할 것으로 예상되는 artist 예측\n",
    "model.recommendProducts(user, limit)"
   ]
  },
  {
   "cell_type": "code",
   "execution_count": 14,
   "metadata": {
    "scrolled": true
   },
   "outputs": [
    {
     "data": {
      "text/plain": [
       "[Rating(user=2093760, product=2814, rating=0.029410752287782803),\n",
       " Rating(user=2093760, product=1001819, rating=0.02901680416033587),\n",
       " Rating(user=2093760, product=1300642, rating=0.02860463611174408),\n",
       " Rating(user=2093760, product=4605, rating=0.0283993331273249),\n",
       " Rating(user=2093760, product=1811, rating=0.028051171541554305)]"
      ]
     },
     "execution_count": 14,
     "metadata": {},
     "output_type": "execute_result"
    }
   ],
   "source": [
    "model.recommendProducts(userID, 5)"
   ]
  },
  {
   "cell_type": "code",
   "execution_count": 15,
   "metadata": {},
   "outputs": [
    {
     "name": "stdout",
     "output_type": "stream",
     "text": [
      "+-------+----------+\n",
      "| artist|      name|\n",
      "+-------+----------+\n",
      "|   2814|   50 Cent|\n",
      "|   4605|Snoop Dogg|\n",
      "|   1811|   Dr. Dre|\n",
      "|1001819|      2Pac|\n",
      "|1300642|  The Game|\n",
      "+-------+----------+\n",
      "\n"
     ]
    }
   ],
   "source": [
    "recommendedArtistIDs = [ x[1] for x in model.recommendProducts(userID, 5) ]\n",
    "artistDataDF.filter(artistDataDF.artist.isin(recommendedArtistIDs)).show()"
   ]
  },
  {
   "cell_type": "markdown",
   "metadata": {},
   "source": [
    "#### 특정 artist를 좋아할 것으로 예상되는 user 예측\n",
    "model.recommendUsers(artist, limit)"
   ]
  },
  {
   "cell_type": "code",
   "execution_count": 15,
   "metadata": {
    "scrolled": true
   },
   "outputs": [
    {
     "data": {
      "text/plain": [
       "[Rating(user=1037240, product=1, rating=1.3606984320279356),\n",
       " Rating(user=1054417, product=1, rating=1.336792097354692),\n",
       " Rating(user=2167160, product=1, rating=1.3278224025483398),\n",
       " Rating(user=1005353, product=1, rating=1.3089582300854892),\n",
       " Rating(user=1001440, product=1, rating=1.3073439566057818)]"
      ]
     },
     "execution_count": 15,
     "metadata": {},
     "output_type": "execute_result"
    }
   ],
   "source": [
    "model.recommendUsers(1, 5)"
   ]
  },
  {
   "cell_type": "markdown",
   "metadata": {},
   "source": [
    "#### 특정 user의 특정 artist에 대한 count 예측\n",
    "model.predict(user, artist)"
   ]
  },
  {
   "cell_type": "code",
   "execution_count": 16,
   "metadata": {},
   "outputs": [
    {
     "data": {
      "text/plain": [
       "0.20708320290743037"
      ]
     },
     "execution_count": 16,
     "metadata": {},
     "output_type": "execute_result"
    }
   ],
   "source": [
    "model.predict(1000100, 1)"
   ]
  },
  {
   "cell_type": "markdown",
   "metadata": {},
   "source": [
    "#### model의 예측 결과에 대한 Mean Squared Error 계산"
   ]
  },
  {
   "cell_type": "code",
   "execution_count": 17,
   "metadata": {},
   "outputs": [
    {
     "name": "stdout",
     "output_type": "stream",
     "text": [
      "Mean Squared Error = 24103.494386597584\n"
     ]
    }
   ],
   "source": [
    "testData = trainData.map(lambda p: (p[0], p[1]))\n",
    "predictions = model.predictAll(testData).map(lambda r: ((r[0], r[1]), r[2]))\n",
    "ratesAndPreds = trainData.map(lambda r: ((r[0], r[1]), r[2])).join(predictions)\n",
    "MSE = ratesAndPreds.map(lambda r: (r[1][0] - r[1][1])**2).mean()\n",
    "print(\"Mean Squared Error = \" + str(MSE))"
   ]
  },
  {
   "cell_type": "markdown",
   "metadata": {},
   "source": [
    "#### model 저장 (HDFS only)"
   ]
  },
  {
   "cell_type": "raw",
   "metadata": {},
   "source": [
    "# save model and load (HDFS only)\n",
    "model.save(sc, path)\n",
    "sameModel = MatrixFactorizationModel.load(sc, path)"
   ]
  }
 ],
 "metadata": {
  "kernelspec": {
   "display_name": "Python 3",
   "language": "python",
   "name": "python3"
  },
  "language_info": {
   "codemirror_mode": {
    "name": "ipython",
    "version": 3
   },
   "file_extension": ".py",
   "mimetype": "text/x-python",
   "name": "python",
   "nbconvert_exporter": "python",
   "pygments_lexer": "ipython3",
   "version": "3.6.5"
  }
 },
 "nbformat": 4,
 "nbformat_minor": 2
}
